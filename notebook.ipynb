# Frameworks Assignment - Data Exploration & Visualization

import pandas as pd
import matplotlib.pyplot as plt
import seaborn as sns
from wordcloud import WordCloud

# Load dataset
df = pd.read_csv("metadata.csv")
print(df.head())
print("Shape:", df.shape)
print(df.info())
print(df.isnull().sum())

# Cleaning
df = df.dropna(subset=['title', 'publish_time'])
df['publish_time'] = pd.to_datetime(df['publish_time'], errors='coerce')
df['year'] = df['publish_time'].dt.year
df['abstract_word_count'] = df['abstract'].fillna("").apply(lambda x: len(x.split()))

# Publications by Year
year_counts = df['year'].value_counts().sort_index()
plt.figure(figsize=(8,5))
sns.barplot(x=year_counts.index, y=year_counts.values)
plt.title("Publications by Year")
plt.show()

# Top Journals
top_journals = df['journal'].value_counts().head(10)
plt.figure(figsize=(8,5))
sns.barplot(y=top_journals.index, x=top_journals.values)
plt.title("Top Journals")
plt.show()

# Word cloud
titles = " ".join(df['title'].dropna())
wc = WordCloud(width=800, height=400, background_color='white').generate(titles)
plt.figure(figsize=(10,5))
plt.imshow(wc, interpolation="bilinear")
plt.axis("off")
plt.show()
